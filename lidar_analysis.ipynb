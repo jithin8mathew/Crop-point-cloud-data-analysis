{
 "cells": [
  {
   "cell_type": "code",
   "execution_count": null,
   "metadata": {},
   "outputs": [],
   "source": [
    "import numpy as np\n",
    "from laspy.file import File\n",
    "import plotly.graph_objects as go\n",
    "import plotly.io as pio\n",
    "pio.templates\n",
    "\n",
    "inFile = File(\"./wheat3000.las\", mode = \"r\")"
   ]
  },
  {
   "cell_type": "code",
   "execution_count": null,
   "metadata": {},
   "outputs": [],
   "source": [
    "point_records = inFile.points\n",
    "print(point_records)"
   ]
  },
  {
   "cell_type": "code",
   "execution_count": null,
   "metadata": {},
   "outputs": [],
   "source": [
    "pointformat = inFile.point_format\n",
    "\n"
   ]
  },
  {
   "cell_type": "code",
   "execution_count": null,
   "metadata": {},
   "outputs": [],
   "source": [
    "for spec in inFile.point_format:\n",
    "    print(spec.name)"
   ]
  },
  {
   "cell_type": "code",
   "execution_count": null,
   "metadata": {},
   "outputs": [],
   "source": [
    "x,y,z = inFile.X , inFile.Y , inFile.Z"
   ]
  },
  {
   "cell_type": "code",
   "execution_count": null,
   "metadata": {},
   "outputs": [],
   "source": [
    "print(len(y), len(x), len(z))"
   ]
  },
  {
   "cell_type": "code",
   "execution_count": null,
   "metadata": {},
   "outputs": [],
   "source": [
    "#noise = (np.where(y<= -370)[0])+ np.where(y>=1100)[0]\n",
    "noise = np.concatenate((np.where(y<= -370)[0], np.where(y>= 1100)[0], np.where(x>2510)[0]), axis=None)\n",
    "noise"
   ]
  },
  {
   "cell_type": "code",
   "execution_count": null,
   "metadata": {},
   "outputs": [],
   "source": [
    "print(len(x),len(y),len(z))"
   ]
  },
  {
   "cell_type": "code",
   "execution_count": null,
   "metadata": {},
   "outputs": [],
   "source": [
    "x1,y1,z1 = np.delete(x, noise) , np.delete(y, noise), np.delete(z, noise)\n",
    "print(len(y1), len(x1), len(z1))"
   ]
  },
  {
   "cell_type": "code",
   "execution_count": null,
   "metadata": {},
   "outputs": [],
   "source": [
    "fig = go.Figure(data=[go.Scatter3d(\n",
    "    x=x, y=y, z=z, mode='markers', marker=dict( size=0.4, color=x, opacity=0.8)\n",
    ")])\n",
    "\n",
    "fig.update_layout(template='plotly_dark', margin=dict(l=0, r=0, b=0, t=0))\n",
    "fig.show()"
   ]
  },
  {
   "cell_type": "code",
   "execution_count": null,
   "metadata": {},
   "outputs": [],
   "source": [
    "fig = go.Figure(data=[go.Scatter3d(\n",
    "    x=x1, y=y1, z=z1, mode='markers', marker=dict( size=0.4, color=x, opacity=0.8)\n",
    ")])\n",
    "\n",
    "fig.update_layout(template='plotly_dark', margin=dict(l=0, r=0, b=0, t=0))\n",
    "fig.show()"
   ]
  },
  {
   "cell_type": "code",
   "execution_count": null,
   "metadata": {},
   "outputs": [],
   "source": [
    "lidar_Maxpoint = np.max(x1)\n",
    "lidar_Maxpoint"
   ]
  },
  {
   "cell_type": "code",
   "execution_count": null,
   "metadata": {},
   "outputs": [],
   "source": [
    "x1= lidar_Maxpoint - x1"
   ]
  },
  {
   "cell_type": "code",
   "execution_count": null,
   "metadata": {},
   "outputs": [],
   "source": [
    "x1"
   ]
  },
  {
   "cell_type": "code",
   "execution_count": null,
   "metadata": {},
   "outputs": [],
   "source": [
    "fig = go.Figure(data=[go.Scatter3d(\n",
    "    x=x1, y=y1, z=z1, mode='markers', marker=dict( size=0.5, color=x, opacity=0.8)\n",
    ")])\n",
    "\n",
    "fig.update_layout(template='plotly_dark', margin=dict(l=0, r=0, b=0, t=0))\n",
    "fig.show()"
   ]
  },
  {
   "cell_type": "code",
   "execution_count": null,
   "metadata": {},
   "outputs": [],
   "source": [
    "header_len = inFile.header.data_record_length\n",
    "scl= inFile.header.scale\n",
    "prc= inFile.header.point_return_count\n",
    "rc= inFile.header.records_count\n",
    "dfi= inFile.header.data_format_id\n",
    "do= inFile.header.data_offset\n",
    "hs= inFile.header.header_size\n",
    "v= inFile.header.version\n",
    "gui= inFile.header.guid\n",
    "gps= inFile.header.gps_time_type"
   ]
  },
  {
   "cell_type": "code",
   "execution_count": null,
   "metadata": {},
   "outputs": [],
   "source": [
    "print(header_len)\n",
    "print(scl)\n",
    "print(prc)\n",
    "print(rc)\n",
    "print(dfi)\n",
    "print(do)\n",
    "print(hs)\n",
    "print(v)\n",
    "print(gui)\n",
    "print(gps)"
   ]
  },
  {
   "cell_type": "code",
   "execution_count": null,
   "metadata": {},
   "outputs": [],
   "source": []
  },
  {
   "cell_type": "code",
   "execution_count": null,
   "metadata": {},
   "outputs": [],
   "source": []
  },
  {
   "cell_type": "code",
   "execution_count": null,
   "metadata": {},
   "outputs": [],
   "source": [
    "#x1 = x1[lidar_Maxpoint - x1]\n",
    "\n",
    "x1 = [lidar_Maxpoint - i for i in list(x1)]\n",
    "x1 = np.array(x1)"
   ]
  },
  {
   "cell_type": "code",
   "execution_count": null,
   "metadata": {},
   "outputs": [],
   "source": [
    "x1"
   ]
  },
  {
   "cell_type": "code",
   "execution_count": null,
   "metadata": {},
   "outputs": [],
   "source": [
    "fig = go.Figure(data=[go.Scatter3d(\n",
    "    x=x1, y=y1, z=z1, mode='markers', marker=dict( size=0.5, color=x, opacity=0.8)\n",
    ")])\n",
    "\n",
    "fig.update_layout(template='plotly_dark', margin=dict(l=0, r=0, b=0, t=0))\n",
    "fig.show()"
   ]
  },
  {
   "cell_type": "code",
   "execution_count": null,
   "metadata": {},
   "outputs": [],
   "source": [
    "inFile = File(\"./calibration4.las\", mode = \"r\")\n",
    "point_records = inFile.points\n",
    "x,y,z = inFile.X , inFile.Y , inFile.Z"
   ]
  },
  {
   "cell_type": "code",
   "execution_count": null,
   "metadata": {},
   "outputs": [],
   "source": [
    "noise = np.concatenate((np.where(y<= -730)[0], np.where(y>= 1400)[0], np.where(x>2510)[0]), axis=None)\n",
    "noise\n"
   ]
  },
  {
   "cell_type": "code",
   "execution_count": null,
   "metadata": {},
   "outputs": [],
   "source": [
    "x1,y1,z1 = np.delete(x, noise) , np.delete(y, noise), np.delete(z, noise)\n",
    "print(len(y1), len(x1), len(z1))"
   ]
  },
  {
   "cell_type": "code",
   "execution_count": null,
   "metadata": {},
   "outputs": [],
   "source": [
    "lidar_Maxpoint = np.max(x1)\n",
    "x1= lidar_Maxpoint - x1\n",
    "lidar_Maxpoint"
   ]
  },
  {
   "cell_type": "code",
   "execution_count": null,
   "metadata": {},
   "outputs": [],
   "source": [
    "x1 = x1/ 25"
   ]
  },
  {
   "cell_type": "code",
   "execution_count": null,
   "metadata": {},
   "outputs": [],
   "source": [
    "fig = go.Figure(data=[go.Scatter3d(\n",
    "    x=x1, y=y1, z=z1, mode='markers', marker=dict( size=0.4, color=x, opacity=0.8)\n",
    ")])\n",
    "\n",
    "fig.update_layout(template='plotly_dark', margin=dict(l=0, r=0, b=0, t=0))\n",
    "fig.show()"
   ]
  },
  {
   "cell_type": "code",
   "execution_count": null,
   "metadata": {},
   "outputs": [],
   "source": []
  }
 ],
 "metadata": {
  "kernelspec": {
   "display_name": "Python 3",
   "language": "python",
   "name": "python3"
  },
  "language_info": {
   "codemirror_mode": {
    "name": "ipython",
    "version": 3
   },
   "file_extension": ".py",
   "mimetype": "text/x-python",
   "name": "python",
   "nbconvert_exporter": "python",
   "pygments_lexer": "ipython3",
   "version": "3.6.8"
  }
 },
 "nbformat": 4,
 "nbformat_minor": 2
}
